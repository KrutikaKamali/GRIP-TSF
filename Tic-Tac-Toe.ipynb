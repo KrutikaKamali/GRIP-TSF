{
 "cells": [
  {
   "cell_type": "markdown",
   "id": "844e2b3e",
   "metadata": {},
   "source": [
    "## InternPe Internship - Krutika Kamali Anandavel\n",
    "### Task 1 : Tic-Tac-Toe Game"
   ]
  },
  {
   "cell_type": "code",
   "execution_count": 1,
   "id": "8799ed8a",
   "metadata": {},
   "outputs": [],
   "source": [
    "#Setup of the board & initialization of global variables\n",
    "board = [\"-\", \"-\", \"-\",\n",
    "        \"-\", \"-\", \"-\",\n",
    "        \"-\", \"-\", \"-\"]\n",
    "\n",
    "currentPlayer = 'X'\n",
    "gameRunning = True\n",
    "Winner = None\n"
   ]
  },
  {
   "cell_type": "code",
   "execution_count": 2,
   "id": "99a0d662",
   "metadata": {},
   "outputs": [
    {
     "name": "stdout",
     "output_type": "stream",
     "text": [
      "- | - | -\n",
      "---------\n",
      "- | - | -\n",
      "---------\n",
      "- | - | -\n",
      "None\n"
     ]
    }
   ],
   "source": [
    "#printing the board\n",
    "def printBoard(board):\n",
    "    print(board[0], '|' ,board[1], '|' , board[2])\n",
    "    print('---------')\n",
    "    print(board[3], '|' ,board[4], '|' , board[5])\n",
    "    print('---------')\n",
    "    print(board[6], '|' ,board[7], '|' , board[8])\n",
    "\n",
    "print(printBoard(board))\n"
   ]
  },
  {
   "cell_type": "code",
   "execution_count": 3,
   "id": "03b9f616",
   "metadata": {},
   "outputs": [],
   "source": [
    "#take input from the player\n",
    "\n",
    "def playerInput(board):\n",
    "    inp = int(input(\"Enter a number 1-9 : \"))\n",
    "    if inp >= 1 and inp <= 9 and board[inp-1] == '-':\n",
    "        board[inp-1] = currentPlayer\n",
    "    else:\n",
    "        print('Oops, the location is occupied!')\n",
    "        "
   ]
  },
  {
   "cell_type": "code",
   "execution_count": 4,
   "id": "b2676ba5",
   "metadata": {},
   "outputs": [],
   "source": [
    "#checking for win or tie\n",
    "\n",
    "def checkRow(board):\n",
    "    global winner\n",
    "    if board[0] == board[1] == board[2] and board[0] != '-':\n",
    "        winner = board[0]\n",
    "        return True\n",
    "    if board[3] == board[4] == board[5] and board[3] != '-':\n",
    "        winner = board[3]\n",
    "        return True\n",
    "    if board[6] == board[7] == board[8] and board[6] != '-':\n",
    "        winner = board[6]\n",
    "        return True\n",
    "    \n",
    "def checkHoriz(board):\n",
    "    global winner\n",
    "    if board[0] == board[3] == board[6] and board[0] != '-':\n",
    "        winner = board[0]\n",
    "        return True\n",
    "    elif board[1] == board[4] == board[7] and board[1] != '-':\n",
    "        winner = board[1]\n",
    "        return True\n",
    "    elif board[2] == board[5] == board[8] and board[2] != '-':\n",
    "        winner == board[2]\n",
    "        return True\n",
    "        \n",
    "def checkDiag(board):\n",
    "    global winner\n",
    "    if board[0] == board[4] == board[8] and board[0] != '-':\n",
    "        winner = board[0]\n",
    "        return True\n",
    "    elif board[2] == board[4] == board[6] and board[2] != '-':\n",
    "        winner = board[2]\n",
    "        return True\n",
    "        \n",
    "def checkTie(board):\n",
    "    global gameRunning\n",
    "    if '-' not in board:\n",
    "        printBoard(board)\n",
    "        print(\"It's a Tie!\")\n",
    "        gameRunning = False\n",
    "        \n",
    "def checkWin():\n",
    "    global gameRunning\n",
    "    if checkRow(board) or checkHoriz(board) or checkDiag(board):\n",
    "        print(f\"Huray!, The winner is {winner}\")\n",
    "        gameRunning = False\n",
    "        printBoard(board)\n",
    "        "
   ]
  },
  {
   "cell_type": "code",
   "execution_count": 5,
   "id": "33559a20",
   "metadata": {},
   "outputs": [],
   "source": [
    "#switch the player\n",
    "\n",
    "def switchPlayer():\n",
    "    global currentPlayer\n",
    "    if currentPlayer == 'X':\n",
    "        currentPlayer = 'O'\n",
    "    else:\n",
    "        currentPlayer = 'X'\n",
    "        "
   ]
  },
  {
   "cell_type": "code",
   "execution_count": 6,
   "id": "858cddc5",
   "metadata": {},
   "outputs": [],
   "source": [
    "#Computer's move using random library\n",
    "import random\n",
    "\n",
    "def computer(board):\n",
    "    while currentPlayer == 'O':\n",
    "        position = random.randint(0,8)\n",
    "        if board[position] == '-':\n",
    "            board[position] = 'O'\n",
    "            switchPlayer()\n",
    "    "
   ]
  },
  {
   "cell_type": "code",
   "execution_count": null,
   "id": "8a03ad81",
   "metadata": {},
   "outputs": [
    {
     "name": "stdout",
     "output_type": "stream",
     "text": [
      "- | - | -\n",
      "---------\n",
      "- | - | -\n",
      "---------\n",
      "- | - | -\n",
      "Enter a number 1-9 : 2\n",
      "O | X | -\n",
      "---------\n",
      "- | - | -\n",
      "---------\n",
      "- | - | -\n",
      "Enter a number 1-9 : 9\n",
      "O | X | O\n",
      "---------\n",
      "- | - | -\n",
      "---------\n",
      "- | - | X\n",
      "Enter a number 1-9 : 7\n",
      "O | X | O\n",
      "---------\n",
      "- | - | -\n",
      "---------\n",
      "X | O | X\n",
      "Enter a number 1-9 : 6\n",
      "O | X | O\n",
      "---------\n",
      "O | - | X\n",
      "---------\n",
      "X | O | X\n",
      "Enter a number 1-9 : 5\n",
      "O | X | O\n",
      "---------\n",
      "O | X | X\n",
      "---------\n",
      "X | O | X\n",
      "It's a Tie!\n"
     ]
    }
   ],
   "source": [
    "#checking for win or tie again\n",
    "\n",
    "while gameRunning:\n",
    "    printBoard(board)\n",
    "    playerInput(board)\n",
    "    checkWin()\n",
    "    checkTie(board)\n",
    "    switchPlayer()\n",
    "    computer(board)\n",
    "    checkWin()\n",
    "    checkTie(board)\n",
    "    "
   ]
  },
  {
   "cell_type": "code",
   "execution_count": null,
   "id": "e72476b8",
   "metadata": {},
   "outputs": [],
   "source": []
  }
 ],
 "metadata": {
  "kernelspec": {
   "display_name": "Python 3",
   "language": "python",
   "name": "python3"
  },
  "language_info": {
   "codemirror_mode": {
    "name": "ipython",
    "version": 3
   },
   "file_extension": ".py",
   "mimetype": "text/x-python",
   "name": "python",
   "nbconvert_exporter": "python",
   "pygments_lexer": "ipython3",
   "version": "3.8.8"
  }
 },
 "nbformat": 4,
 "nbformat_minor": 5
}
